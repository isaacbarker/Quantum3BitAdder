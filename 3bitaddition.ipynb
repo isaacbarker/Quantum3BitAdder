{
 "cells": [
  {
   "cell_type": "markdown",
   "id": "454271be-b79c-4b68-a9d9-df95b90f341a",
   "metadata": {},
   "source": [
    "### Classical addition using 3 Qubits. \n",
    "\n",
    "#### The problem:\n",
    "\n",
    "Build a quantum circuit which will calculate the sum of 3 classical bits eg. 1 + 0 + 1 or \n",
    "1 + 1 + 1.\n",
    "\n",
    "#### Circuit design.\n",
    "\n",
    "To create an algorithm that makes use of quantum logic gates, all the possible input states\n",
    "need to be considered. The maximum sum possible is 1 + 1 + 1 which is 2^0 + 2^0 + 2^0 = 3.\n",
    "This can most easily be broken into 2^1 + 2^0 = 11 in binary. Another abritary example is 1 + 1 + 0 which is equivalent in decimal to 2^0 + 2^0 + 0 = 2. Again, equivalent to 2^1 + 0 = 10 in binary.\n",
    "\n",
    "The conditions that need to be satisfied are:\n",
    "\n",
    "    - If there is a |100> or state with only one qubit in |1> state output 01.\n",
    "    - If there is a |110> or state with two qubits in |1> state output 10.\n",
    "    - If there is a |111> state output 11.\n",
    "\n",
    "Firstly, concentrating on the first output qubit, it should only be flipped to |1> when only one |1> state is present in the inputs or all 3 inputs are |1>. This can be achieved using a series of CNOTs connected to an output qubit, which cancel eachother out when 2 |1> states are present. \n",
    "\n",
    "Then, to calculate the second output qubit a series of connected Toffoli or CCNOT gates can be used to achieve a |1> state only when at least two |1> states are present in the inputs as with only 1 |1> state none of these such gates' condition will be satisfied. \n",
    "\n",
    "Finally, the circuit is measured, mapping qubits 3 and 4 onto classical bits 0 and 1, which represent the outcome of the addition, successfully calculating the sum of 3 bits using quantum logic gates. "
   ]
  },
  {
   "cell_type": "code",
   "execution_count": 31,
   "id": "648d10fa-f249-416a-80f8-6f1ced5812da",
   "metadata": {
    "tags": []
   },
   "outputs": [],
   "source": [
    "# IBM Quantum Lab boilerplate code.\n",
    "\n",
    "# Importing standard Qiskit libraries\n",
    "from qiskit import QuantumCircuit, transpile, Aer, execute\n",
    "from qiskit.tools.jupyter import *\n",
    "from qiskit.visualization import *\n",
    "from ibm_quantum_widgets import *\n",
    "\n",
    "# qiskit-ibmq-provider has been deprecated.\n",
    "# Please see the Migration Guides in https://ibm.biz/provider_migration_guide for more detail.\n",
    "from qiskit_ibm_runtime import QiskitRuntimeService, Sampler, Estimator, Session, Options\n",
    "\n",
    "# Loading your IBM Quantum account(s)\n",
    "service = QiskitRuntimeService(channel=\"ibm_quantum\")\n",
    "\n",
    "# Invoke a primitive. For more details see https://qiskit.org/documentation/partners/qiskit_ibm_runtime/tutorials.html\n",
    "# result = Sampler(\"ibmq_qasm_simulator\").run(circuits).result()"
   ]
  },
  {
   "cell_type": "code",
   "execution_count": 27,
   "id": "994e8678-eab5-4cbf-89dc-b84e459379d3",
   "metadata": {},
   "outputs": [
    {
     "data": {
      "text/plain": [
       "<qiskit.circuit.instructionset.InstructionSet at 0x7f40bc891630>"
      ]
     },
     "execution_count": 27,
     "metadata": {},
     "output_type": "execute_result"
    }
   ],
   "source": [
    "# Initliaze qunatum circuit with 5 qubits and 2 classical bits.\n",
    "circuit = QuantumCircuit(5, 2)\n",
    "\n",
    "# Add NOT gates two test different conditions.\n",
    "# circuit.x(0)\n",
    "# circuit.x(1)\n",
    "circuit.x(2)\n",
    "\n",
    "# Add CNOT gates to calculate first bit\n",
    "circuit.cx(0, 3)\n",
    "circuit.cx(1, 3)\n",
    "circuit.cx(2, 3)\n",
    "\n",
    "# Add Toffoli gares to calculate second bit\n",
    "circuit.ccx(0, 1, 4)\n",
    "circuit.ccx(0, 2, 4)\n",
    "circuit.ccx(1, 2, 4)"
   ]
  },
  {
   "cell_type": "code",
   "execution_count": 28,
   "id": "e9c67a59-bf39-4cd6-8c9b-5d916f065595",
   "metadata": {
    "tags": []
   },
   "outputs": [
    {
     "data": {
      "text/plain": [
       "<qiskit.circuit.instructionset.InstructionSet at 0x7f40bc6bc490>"
      ]
     },
     "execution_count": 28,
     "metadata": {},
     "output_type": "execute_result"
    }
   ],
   "source": [
    "# Measure qbits 3 and 4 onto classical bits 0 and 1.\n",
    "circuit.measure([3, 4], [0, 1])"
   ]
  },
  {
   "cell_type": "code",
   "execution_count": 29,
   "id": "5419b717-f7a9-400d-9acf-4e32a7e1d4af",
   "metadata": {
    "tags": []
   },
   "outputs": [
    {
     "data": {
      "image/png": "[encoded data removed]",
      "text/plain": [
       "<Figure size 872.774x535.111 with 1 Axes>"
      ]
     },
     "execution_count": 29,
     "metadata": {},
     "output_type": "execute_result"
    }
   ],
   "source": [
    "# Draw circuit\n",
    "circuit.draw('mpl')"
   ]
  },
  {
   "cell_type": "code",
   "execution_count": 30,
   "id": "c48f2f18-9bb1-4096-8ff9-3c8782215d7b",
   "metadata": {
    "tags": []
   },
   "outputs": [
    {
     "name": "stdout",
     "output_type": "stream",
     "text": [
      "Results: ['01']\n"
     ]
    }
   ],
   "source": [
    "# Execute circuit on Aer simulator\n",
    "simulator = Aer.get_backend('qasm_simulator')\n",
    "\n",
    "# Excecute job\n",
    "job = execute(circuit, simulator, shots=1024)\n",
    "\n",
    "# Get results\n",
    "results = job.result()\n",
    "counts = results.get_counts(circuit)\n",
    "\n",
    "# Print results. As this is in reality not a quantum operation no probabilities or 'counts' \n",
    "# required as the circuit should only output the correct answer due to the fact no\n",
    "# qubits are in superposition within the circuit. \n",
    "sums = []\n",
    "\n",
    "for key in counts.keys():\n",
    "    sums.append(key)\n",
    "\n",
    "# Print results\n",
    "print(f'Results: {sums}')"
   ]
  },
  {
   "cell_type": "code",
   "execution_count": null,
   "id": "a84e1430-95d2-4348-be33-c9b74fbf14d7",
   "metadata": {},
   "outputs": [],
   "source": []
  }
 ],
 "metadata": {
  "kernelspec": {
   "display_name": "Python 3 (ipykernel)",
   "language": "python",
   "name": "python3"
  },
  "language_info": {
   "codemirror_mode": {
    "name": "ipython",
    "version": 3
   },
   "file_extension": ".py",
   "mimetype": "text/x-python",
   "name": "python",
   "nbconvert_exporter": "python",
   "pygments_lexer": "ipython3",
   "version": "3.10.8"
  },
  "widgets": {
   "application/vnd.jupyter.widget-state+json": {
    "state": {
     "065db90bf7ed4f8ab7d1f7882677b3f1": {
      "model_module": "@jupyter-widgets/base",
      "model_module_version": "2.0.0",
      "model_name": "LayoutModel",
      "state": {
       "width": "95px"
      }
     },
     "0749c1625fdc47b98861d6332bdcd3a1": {
      "model_module": "@jupyter-widgets/controls",
      "model_module_version": "2.0.0",
      "model_name": "HTMLStyleModel",
      "state": {
       "description_width": "",
       "font_size": null,
       "text_color": null
      }
     },
     "0b09b9f99f964b1db7ac6ec796d0bf1c": {
      "model_module": "@jupyter-widgets/controls",
      "model_module_version": "2.0.0",
      "model_name": "HTMLModel",
      "state": {
       "layout": "IPY_MODEL_b7ffdcb330a74648ab5066ce8aee2207",
       "style": "IPY_MODEL_15ded30487e94c469cf076d591723266",
       "value": "<h5>Queue</h5>"
      }
     },
     "0e5680f80627452689d8f2a2433685cb": {
      "model_module": "@jupyter-widgets/controls",
      "model_module_version": "2.0.0",
      "model_name": "HTMLStyleModel",
      "state": {
       "description_width": "",
       "font_size": null,
       "text_color": null
      }
     },
     "15ded30487e94c469cf076d591723266": {
      "model_module": "@jupyter-widgets/controls",
      "model_module_version": "2.0.0",
      "model_name": "HTMLStyleModel",
      "state": {
       "description_width": "",
       "font_size": null,
       "text_color": null
      }
     },
     "1db4c359406e40178657e5a4614b54f8": {
      "model_module": "@jupyter-widgets/controls",
      "model_module_version": "2.0.0",
      "model_name": "GridBoxModel",
      "state": {
       "children": [
        "IPY_MODEL_e20147d49fe84ae9969eae5313da5966"
       ],
       "layout": "IPY_MODEL_b172b88df9324cdabea57066e68b3d62"
      }
     },
     "2107aa6beeb24b40a3c514d749d75161": {
      "model_module": "@jupyter-widgets/controls",
      "model_module_version": "2.0.0",
      "model_name": "HBoxModel",
      "state": {
       "children": [
        "IPY_MODEL_d4fe8c708e0440dbadd50d505e428a6f",
        "IPY_MODEL_bf13893529ac4499a83363366e764c88",
        "IPY_MODEL_af573a5514e24c0d9d44013af3a42894",
        "IPY_MODEL_0b09b9f99f964b1db7ac6ec796d0bf1c",
        "IPY_MODEL_838ff874f6da4701a649dff4fa578f0e"
       ],
       "layout": "IPY_MODEL_e935da03ace94a1e8a3a32344edc1185"
      }
     },
     "332529f4da704c90a4af43bf8d517dbf": {
      "model_module": "@jupyter-widgets/controls",
      "model_module_version": "2.0.0",
      "model_name": "HTMLStyleModel",
      "state": {
       "description_width": "",
       "font_size": null,
       "text_color": null
      }
     },
     "838ff874f6da4701a649dff4fa578f0e": {
      "model_module": "@jupyter-widgets/controls",
      "model_module_version": "2.0.0",
      "model_name": "HTMLModel",
      "state": {
       "layout": "IPY_MODEL_9097111cbcc843f3991ef8818b346ed1",
       "style": "IPY_MODEL_d2cb564688d946d2becb2f63f3b49557",
       "value": "<h5>Message</h5>"
      }
     },
     "843cfba004744b88a0f99c48740f8321": {
      "model_module": "@jupyter-widgets/base",
      "model_module_version": "2.0.0",
      "model_name": "LayoutModel",
      "state": {
       "width": "190px"
      }
     },
     "9097111cbcc843f3991ef8818b346ed1": {
      "model_module": "@jupyter-widgets/base",
      "model_module_version": "2.0.0",
      "model_name": "LayoutModel",
      "state": {}
     },
     "96cfcde824e640eab8703f9bac4f0d50": {
      "model_module": "@jupyter-widgets/base",
      "model_module_version": "2.0.0",
      "model_name": "LayoutModel",
      "state": {
       "grid_area": "right",
       "padding": "0px 0px 0px 0px",
       "width": "70px"
      }
     },
     "a3e38308c4904f059402d3de1e0931a5": {
      "model_module": "@jupyter-widgets/base",
      "model_module_version": "2.0.0",
      "model_name": "LayoutModel",
      "state": {
       "margin": "0px 0px 10px 0px"
      }
     },
     "af573a5514e24c0d9d44013af3a42894": {
      "model_module": "@jupyter-widgets/controls",
      "model_module_version": "2.0.0",
      "model_name": "HTMLModel",
      "state": {
       "layout": "IPY_MODEL_065db90bf7ed4f8ab7d1f7882677b3f1",
       "style": "IPY_MODEL_332529f4da704c90a4af43bf8d517dbf",
       "value": "<h5>Status</h5>"
      }
     },
     "b172b88df9324cdabea57066e68b3d62": {
      "model_module": "@jupyter-widgets/base",
      "model_module_version": "2.0.0",
      "model_name": "LayoutModel",
      "state": {
       "grid_template_areas": "\n                                       \". . . . right \"\n                                        ",
       "grid_template_columns": "20% 20% 20% 20% 20%",
       "width": "100%"
      }
     },
     "b7ffdcb330a74648ab5066ce8aee2207": {
      "model_module": "@jupyter-widgets/base",
      "model_module_version": "2.0.0",
      "model_name": "LayoutModel",
      "state": {
       "width": "70px"
      }
     },
     "b91b25f570094546bb6011713028de27": {
      "model_module": "@jupyter-widgets/base",
      "model_module_version": "2.0.0",
      "model_name": "LayoutModel",
      "state": {
       "width": "145px"
      }
     },
     "bf13893529ac4499a83363366e764c88": {
      "model_module": "@jupyter-widgets/controls",
      "model_module_version": "2.0.0",
      "model_name": "HTMLModel",
      "state": {
       "layout": "IPY_MODEL_b91b25f570094546bb6011713028de27",
       "style": "IPY_MODEL_0749c1625fdc47b98861d6332bdcd3a1",
       "value": "<h5>Backend</h5>"
      }
     },
     "cf786f2e96894ba39d93497a6aeff4c4": {
      "model_module": "@jupyter-widgets/controls",
      "model_module_version": "2.0.0",
      "model_name": "HTMLModel",
      "state": {
       "layout": "IPY_MODEL_a3e38308c4904f059402d3de1e0931a5",
       "style": "IPY_MODEL_f5d0702d3287496484be7c6737566eee",
       "value": "<p style='font-family: IBM Plex Sans, Arial, Helvetica, sans-serif; font-size: 20px; font-weight: medium;'>Circuit Properties</p>"
      }
     },
     "d2cb564688d946d2becb2f63f3b49557": {
      "model_module": "@jupyter-widgets/controls",
      "model_module_version": "2.0.0",
      "model_name": "HTMLStyleModel",
      "state": {
       "description_width": "",
       "font_size": null,
       "text_color": null
      }
     },
     "d4fe8c708e0440dbadd50d505e428a6f": {
      "model_module": "@jupyter-widgets/controls",
      "model_module_version": "2.0.0",
      "model_name": "HTMLModel",
      "state": {
       "layout": "IPY_MODEL_843cfba004744b88a0f99c48740f8321",
       "style": "IPY_MODEL_0e5680f80627452689d8f2a2433685cb",
       "value": "<h5>Job ID</h5>"
      }
     },
     "e20147d49fe84ae9969eae5313da5966": {
      "model_module": "@jupyter-widgets/controls",
      "model_module_version": "2.0.0",
      "model_name": "ButtonModel",
      "state": {
       "button_style": "primary",
       "description": "Clear",
       "layout": "IPY_MODEL_96cfcde824e640eab8703f9bac4f0d50",
       "style": "IPY_MODEL_fc3a6108dd7347d5a8fad43fe14cb056",
       "tooltip": null
      }
     },
     "e935da03ace94a1e8a3a32344edc1185": {
      "model_module": "@jupyter-widgets/base",
      "model_module_version": "2.0.0",
      "model_name": "LayoutModel",
      "state": {
       "margin": "0px 0px 0px 37px",
       "width": "600px"
      }
     },
     "f5d0702d3287496484be7c6737566eee": {
      "model_module": "@jupyter-widgets/controls",
      "model_module_version": "2.0.0",
      "model_name": "HTMLStyleModel",
      "state": {
       "description_width": "",
       "font_size": null,
       "text_color": null
      }
     },
     "fc3a6108dd7347d5a8fad43fe14cb056": {
      "model_module": "@jupyter-widgets/controls",
      "model_module_version": "2.0.0",
      "model_name": "ButtonStyleModel",
      "state": {
       "font_family": null,
       "font_size": null,
       "font_style": null,
       "font_variant": null,
       "font_weight": null,
       "text_color": null,
       "text_decoration": null
      }
     }
    },
    "version_major": 2,
    "version_minor": 0
   }
  }
 },
 "nbformat": 4,
 "nbformat_minor": 5
}
